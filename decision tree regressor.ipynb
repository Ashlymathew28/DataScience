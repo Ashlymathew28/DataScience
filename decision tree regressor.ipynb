{
 "cells": [
  {
   "cell_type": "code",
   "execution_count": 1,
   "id": "6270e9a8",
   "metadata": {},
   "outputs": [],
   "source": [
    "import pandas as pd\n",
    "import numpy as np\n",
    "from sklearn.model_selection import train_test_split\n",
    "from sklearn.tree import DecisionTreeRegressor\n"
   ]
  },
  {
   "cell_type": "code",
   "execution_count": 2,
   "id": "4ebb6c9e",
   "metadata": {},
   "outputs": [],
   "source": [
    "data=pd.read_csv(\"C:/Users/ashly/OneDrive/Desktop/DataScience Anaconda/Regression/insurance.csv\")"
   ]
  },
  {
   "cell_type": "code",
   "execution_count": 3,
   "id": "9e2be0c2",
   "metadata": {},
   "outputs": [],
   "source": [
    "data['sex']=data['sex'].astype('category')\n",
    "data['sex']=data['sex'].cat.codes\n",
    "\n",
    "data['region']=data['region'].astype('category')\n",
    "data['region']=data['region'].cat.codes\n",
    "\n",
    "data['smoker']=data['smoker'].astype('category')\n",
    "data['smoker']=data['smoker'].cat.codes"
   ]
  },
  {
   "cell_type": "code",
   "execution_count": 4,
   "id": "d395c82e",
   "metadata": {},
   "outputs": [
    {
     "data": {
      "text/plain": [
       "age         0\n",
       "sex         0\n",
       "bmi         0\n",
       "children    0\n",
       "smoker      0\n",
       "region      0\n",
       "charges     0\n",
       "dtype: int64"
      ]
     },
     "execution_count": 4,
     "metadata": {},
     "output_type": "execute_result"
    }
   ],
   "source": [
    "data.isnull().sum()"
   ]
  },
  {
   "cell_type": "code",
   "execution_count": 5,
   "id": "1a597320",
   "metadata": {},
   "outputs": [],
   "source": [
    "x=data.drop(columns=['charges'])\n",
    "y=data['charges']\n"
   ]
  },
  {
   "cell_type": "code",
   "execution_count": 6,
   "id": "de4d3c1b",
   "metadata": {},
   "outputs": [],
   "source": [
    "x_train,x_test,y_train,y_test=train_test_split(x,y,test_size=.3,random_state=0)"
   ]
  },
  {
   "cell_type": "code",
   "execution_count": 7,
   "id": "c616fc9c",
   "metadata": {},
   "outputs": [
    {
     "data": {
      "text/html": [
       "<style>#sk-container-id-1 {color: black;background-color: white;}#sk-container-id-1 pre{padding: 0;}#sk-container-id-1 div.sk-toggleable {background-color: white;}#sk-container-id-1 label.sk-toggleable__label {cursor: pointer;display: block;width: 100%;margin-bottom: 0;padding: 0.3em;box-sizing: border-box;text-align: center;}#sk-container-id-1 label.sk-toggleable__label-arrow:before {content: \"▸\";float: left;margin-right: 0.25em;color: #696969;}#sk-container-id-1 label.sk-toggleable__label-arrow:hover:before {color: black;}#sk-container-id-1 div.sk-estimator:hover label.sk-toggleable__label-arrow:before {color: black;}#sk-container-id-1 div.sk-toggleable__content {max-height: 0;max-width: 0;overflow: hidden;text-align: left;background-color: #f0f8ff;}#sk-container-id-1 div.sk-toggleable__content pre {margin: 0.2em;color: black;border-radius: 0.25em;background-color: #f0f8ff;}#sk-container-id-1 input.sk-toggleable__control:checked~div.sk-toggleable__content {max-height: 200px;max-width: 100%;overflow: auto;}#sk-container-id-1 input.sk-toggleable__control:checked~label.sk-toggleable__label-arrow:before {content: \"▾\";}#sk-container-id-1 div.sk-estimator input.sk-toggleable__control:checked~label.sk-toggleable__label {background-color: #d4ebff;}#sk-container-id-1 div.sk-label input.sk-toggleable__control:checked~label.sk-toggleable__label {background-color: #d4ebff;}#sk-container-id-1 input.sk-hidden--visually {border: 0;clip: rect(1px 1px 1px 1px);clip: rect(1px, 1px, 1px, 1px);height: 1px;margin: -1px;overflow: hidden;padding: 0;position: absolute;width: 1px;}#sk-container-id-1 div.sk-estimator {font-family: monospace;background-color: #f0f8ff;border: 1px dotted black;border-radius: 0.25em;box-sizing: border-box;margin-bottom: 0.5em;}#sk-container-id-1 div.sk-estimator:hover {background-color: #d4ebff;}#sk-container-id-1 div.sk-parallel-item::after {content: \"\";width: 100%;border-bottom: 1px solid gray;flex-grow: 1;}#sk-container-id-1 div.sk-label:hover label.sk-toggleable__label {background-color: #d4ebff;}#sk-container-id-1 div.sk-serial::before {content: \"\";position: absolute;border-left: 1px solid gray;box-sizing: border-box;top: 0;bottom: 0;left: 50%;z-index: 0;}#sk-container-id-1 div.sk-serial {display: flex;flex-direction: column;align-items: center;background-color: white;padding-right: 0.2em;padding-left: 0.2em;position: relative;}#sk-container-id-1 div.sk-item {position: relative;z-index: 1;}#sk-container-id-1 div.sk-parallel {display: flex;align-items: stretch;justify-content: center;background-color: white;position: relative;}#sk-container-id-1 div.sk-item::before, #sk-container-id-1 div.sk-parallel-item::before {content: \"\";position: absolute;border-left: 1px solid gray;box-sizing: border-box;top: 0;bottom: 0;left: 50%;z-index: -1;}#sk-container-id-1 div.sk-parallel-item {display: flex;flex-direction: column;z-index: 1;position: relative;background-color: white;}#sk-container-id-1 div.sk-parallel-item:first-child::after {align-self: flex-end;width: 50%;}#sk-container-id-1 div.sk-parallel-item:last-child::after {align-self: flex-start;width: 50%;}#sk-container-id-1 div.sk-parallel-item:only-child::after {width: 0;}#sk-container-id-1 div.sk-dashed-wrapped {border: 1px dashed gray;margin: 0 0.4em 0.5em 0.4em;box-sizing: border-box;padding-bottom: 0.4em;background-color: white;}#sk-container-id-1 div.sk-label label {font-family: monospace;font-weight: bold;display: inline-block;line-height: 1.2em;}#sk-container-id-1 div.sk-label-container {text-align: center;}#sk-container-id-1 div.sk-container {/* jupyter's `normalize.less` sets `[hidden] { display: none; }` but bootstrap.min.css set `[hidden] { display: none !important; }` so we also need the `!important` here to be able to override the default hidden behavior on the sphinx rendered scikit-learn.org. See: https://github.com/scikit-learn/scikit-learn/issues/21755 */display: inline-block !important;position: relative;}#sk-container-id-1 div.sk-text-repr-fallback {display: none;}</style><div id=\"sk-container-id-1\" class=\"sk-top-container\"><div class=\"sk-text-repr-fallback\"><pre>DecisionTreeRegressor()</pre><b>In a Jupyter environment, please rerun this cell to show the HTML representation or trust the notebook. <br />On GitHub, the HTML representation is unable to render, please try loading this page with nbviewer.org.</b></div><div class=\"sk-container\" hidden><div class=\"sk-item\"><div class=\"sk-estimator sk-toggleable\"><input class=\"sk-toggleable__control sk-hidden--visually\" id=\"sk-estimator-id-1\" type=\"checkbox\" checked><label for=\"sk-estimator-id-1\" class=\"sk-toggleable__label sk-toggleable__label-arrow\">DecisionTreeRegressor</label><div class=\"sk-toggleable__content\"><pre>DecisionTreeRegressor()</pre></div></div></div></div></div>"
      ],
      "text/plain": [
       "DecisionTreeRegressor()"
      ]
     },
     "execution_count": 7,
     "metadata": {},
     "output_type": "execute_result"
    }
   ],
   "source": [
    "regressor=DecisionTreeRegressor()\n",
    "regressor.fit(x_train,y_train)"
   ]
  },
  {
   "cell_type": "code",
   "execution_count": 9,
   "id": "05408ba2",
   "metadata": {},
   "outputs": [],
   "source": [
    "y_pred=regressor.predict(x_test)"
   ]
  },
  {
   "cell_type": "code",
   "execution_count": 11,
   "id": "8e7bcf63",
   "metadata": {},
   "outputs": [
    {
     "data": {
      "text/plain": [
       "0.6885064722540655"
      ]
     },
     "execution_count": 11,
     "metadata": {},
     "output_type": "execute_result"
    }
   ],
   "source": [
    "from sklearn.metrics import mean_squared_error,r2_score\n",
    "r2_score(y_test,y_pred)"
   ]
  },
  {
   "cell_type": "code",
   "execution_count": 12,
   "id": "11e51bd3",
   "metadata": {},
   "outputs": [
    {
     "data": {
      "text/plain": [
       "49673706.25474583"
      ]
     },
     "execution_count": 12,
     "metadata": {},
     "output_type": "execute_result"
    }
   ],
   "source": [
    "mean_squared_error(y_test,y_pred)"
   ]
  },
  {
   "cell_type": "code",
   "execution_count": 14,
   "id": "cc781f97",
   "metadata": {},
   "outputs": [
    {
     "data": {
      "text/html": [
       "<style>#sk-container-id-2 {color: black;background-color: white;}#sk-container-id-2 pre{padding: 0;}#sk-container-id-2 div.sk-toggleable {background-color: white;}#sk-container-id-2 label.sk-toggleable__label {cursor: pointer;display: block;width: 100%;margin-bottom: 0;padding: 0.3em;box-sizing: border-box;text-align: center;}#sk-container-id-2 label.sk-toggleable__label-arrow:before {content: \"▸\";float: left;margin-right: 0.25em;color: #696969;}#sk-container-id-2 label.sk-toggleable__label-arrow:hover:before {color: black;}#sk-container-id-2 div.sk-estimator:hover label.sk-toggleable__label-arrow:before {color: black;}#sk-container-id-2 div.sk-toggleable__content {max-height: 0;max-width: 0;overflow: hidden;text-align: left;background-color: #f0f8ff;}#sk-container-id-2 div.sk-toggleable__content pre {margin: 0.2em;color: black;border-radius: 0.25em;background-color: #f0f8ff;}#sk-container-id-2 input.sk-toggleable__control:checked~div.sk-toggleable__content {max-height: 200px;max-width: 100%;overflow: auto;}#sk-container-id-2 input.sk-toggleable__control:checked~label.sk-toggleable__label-arrow:before {content: \"▾\";}#sk-container-id-2 div.sk-estimator input.sk-toggleable__control:checked~label.sk-toggleable__label {background-color: #d4ebff;}#sk-container-id-2 div.sk-label input.sk-toggleable__control:checked~label.sk-toggleable__label {background-color: #d4ebff;}#sk-container-id-2 input.sk-hidden--visually {border: 0;clip: rect(1px 1px 1px 1px);clip: rect(1px, 1px, 1px, 1px);height: 1px;margin: -1px;overflow: hidden;padding: 0;position: absolute;width: 1px;}#sk-container-id-2 div.sk-estimator {font-family: monospace;background-color: #f0f8ff;border: 1px dotted black;border-radius: 0.25em;box-sizing: border-box;margin-bottom: 0.5em;}#sk-container-id-2 div.sk-estimator:hover {background-color: #d4ebff;}#sk-container-id-2 div.sk-parallel-item::after {content: \"\";width: 100%;border-bottom: 1px solid gray;flex-grow: 1;}#sk-container-id-2 div.sk-label:hover label.sk-toggleable__label {background-color: #d4ebff;}#sk-container-id-2 div.sk-serial::before {content: \"\";position: absolute;border-left: 1px solid gray;box-sizing: border-box;top: 0;bottom: 0;left: 50%;z-index: 0;}#sk-container-id-2 div.sk-serial {display: flex;flex-direction: column;align-items: center;background-color: white;padding-right: 0.2em;padding-left: 0.2em;position: relative;}#sk-container-id-2 div.sk-item {position: relative;z-index: 1;}#sk-container-id-2 div.sk-parallel {display: flex;align-items: stretch;justify-content: center;background-color: white;position: relative;}#sk-container-id-2 div.sk-item::before, #sk-container-id-2 div.sk-parallel-item::before {content: \"\";position: absolute;border-left: 1px solid gray;box-sizing: border-box;top: 0;bottom: 0;left: 50%;z-index: -1;}#sk-container-id-2 div.sk-parallel-item {display: flex;flex-direction: column;z-index: 1;position: relative;background-color: white;}#sk-container-id-2 div.sk-parallel-item:first-child::after {align-self: flex-end;width: 50%;}#sk-container-id-2 div.sk-parallel-item:last-child::after {align-self: flex-start;width: 50%;}#sk-container-id-2 div.sk-parallel-item:only-child::after {width: 0;}#sk-container-id-2 div.sk-dashed-wrapped {border: 1px dashed gray;margin: 0 0.4em 0.5em 0.4em;box-sizing: border-box;padding-bottom: 0.4em;background-color: white;}#sk-container-id-2 div.sk-label label {font-family: monospace;font-weight: bold;display: inline-block;line-height: 1.2em;}#sk-container-id-2 div.sk-label-container {text-align: center;}#sk-container-id-2 div.sk-container {/* jupyter's `normalize.less` sets `[hidden] { display: none; }` but bootstrap.min.css set `[hidden] { display: none !important; }` so we also need the `!important` here to be able to override the default hidden behavior on the sphinx rendered scikit-learn.org. See: https://github.com/scikit-learn/scikit-learn/issues/21755 */display: inline-block !important;position: relative;}#sk-container-id-2 div.sk-text-repr-fallback {display: none;}</style><div id=\"sk-container-id-2\" class=\"sk-top-container\"><div class=\"sk-text-repr-fallback\"><pre>GridSearchCV(cv=5, estimator=Ridge(),\n",
       "             param_grid={&#x27;alpha&#x27;: [1e-10, 1e-08, 1e-07, 1e-05, 0.0001, 0.01,\n",
       "                                   0.1, 2, 10, 20, 30, 50, 60, 75, 100]},\n",
       "             scoring=&#x27;neg_mean_squared_error&#x27;)</pre><b>In a Jupyter environment, please rerun this cell to show the HTML representation or trust the notebook. <br />On GitHub, the HTML representation is unable to render, please try loading this page with nbviewer.org.</b></div><div class=\"sk-container\" hidden><div class=\"sk-item sk-dashed-wrapped\"><div class=\"sk-label-container\"><div class=\"sk-label sk-toggleable\"><input class=\"sk-toggleable__control sk-hidden--visually\" id=\"sk-estimator-id-2\" type=\"checkbox\" ><label for=\"sk-estimator-id-2\" class=\"sk-toggleable__label sk-toggleable__label-arrow\">GridSearchCV</label><div class=\"sk-toggleable__content\"><pre>GridSearchCV(cv=5, estimator=Ridge(),\n",
       "             param_grid={&#x27;alpha&#x27;: [1e-10, 1e-08, 1e-07, 1e-05, 0.0001, 0.01,\n",
       "                                   0.1, 2, 10, 20, 30, 50, 60, 75, 100]},\n",
       "             scoring=&#x27;neg_mean_squared_error&#x27;)</pre></div></div></div><div class=\"sk-parallel\"><div class=\"sk-parallel-item\"><div class=\"sk-item\"><div class=\"sk-label-container\"><div class=\"sk-label sk-toggleable\"><input class=\"sk-toggleable__control sk-hidden--visually\" id=\"sk-estimator-id-3\" type=\"checkbox\" ><label for=\"sk-estimator-id-3\" class=\"sk-toggleable__label sk-toggleable__label-arrow\">estimator: Ridge</label><div class=\"sk-toggleable__content\"><pre>Ridge()</pre></div></div></div><div class=\"sk-serial\"><div class=\"sk-item\"><div class=\"sk-estimator sk-toggleable\"><input class=\"sk-toggleable__control sk-hidden--visually\" id=\"sk-estimator-id-4\" type=\"checkbox\" ><label for=\"sk-estimator-id-4\" class=\"sk-toggleable__label sk-toggleable__label-arrow\">Ridge</label><div class=\"sk-toggleable__content\"><pre>Ridge()</pre></div></div></div></div></div></div></div></div></div></div>"
      ],
      "text/plain": [
       "GridSearchCV(cv=5, estimator=Ridge(),\n",
       "             param_grid={'alpha': [1e-10, 1e-08, 1e-07, 1e-05, 0.0001, 0.01,\n",
       "                                   0.1, 2, 10, 20, 30, 50, 60, 75, 100]},\n",
       "             scoring='neg_mean_squared_error')"
      ]
     },
     "execution_count": 14,
     "metadata": {},
     "output_type": "execute_result"
    }
   ],
   "source": [
    "# ridge regression \n",
    "from sklearn.linear_model import Ridge\n",
    "from sklearn.model_selection import GridSearchCV\n",
    "\n",
    "ridge=Ridge()\n",
    "parameters={'alpha':[1e-10,1e-8,1e-7,1e-5,1e-4,1e-2,1e-1,2,10,20,30,50,60,75,100]}\n",
    "ridge_regressor=GridSearchCV(ridge,parameters,scoring=\"neg_mean_squared_error\",cv=5)\n",
    "ridge_regressor.fit(x_train,y_train)"
   ]
  },
  {
   "cell_type": "code",
   "execution_count": 15,
   "id": "2a150f86",
   "metadata": {},
   "outputs": [
    {
     "data": {
      "text/plain": [
       "{'alpha': 1e-10}"
      ]
     },
     "execution_count": 15,
     "metadata": {},
     "output_type": "execute_result"
    }
   ],
   "source": [
    "ridge_regressor.best_params_"
   ]
  },
  {
   "cell_type": "code",
   "execution_count": 16,
   "id": "ee96c085",
   "metadata": {},
   "outputs": [
    {
     "data": {
      "text/plain": [
       "-38899898.43209447"
      ]
     },
     "execution_count": 16,
     "metadata": {},
     "output_type": "execute_result"
    }
   ],
   "source": [
    "ridge_regressor.best_score_"
   ]
  },
  {
   "cell_type": "code",
   "execution_count": 17,
   "id": "7d58f8fd",
   "metadata": {},
   "outputs": [],
   "source": [
    "ridge_test=regressor.predict(x_test)"
   ]
  },
  {
   "cell_type": "code",
   "execution_count": 18,
   "id": "ba013ee7",
   "metadata": {},
   "outputs": [
    {
     "data": {
      "text/plain": [
       "array([10085.846   ,  8930.93455 , 44202.6536  , 12741.16745 ,\n",
       "        9855.1314  , 21984.47061 ,  2196.4732  , 10600.5483  ,\n",
       "        8965.79575 ,  6128.79745 ,  6933.24225 , 30284.64294 ,\n",
       "        7633.7206  ,  3972.9247  , 18033.9679  , 11015.1747  ,\n",
       "       12629.8967  ,  3292.52985 ,  6455.86265 , 33907.548   ,\n",
       "       24869.8368  , 13430.265   , 10564.8845  , 24915.22085 ,\n",
       "        1532.4697  ,  4454.40265 , 23288.9284  ,  7640.3092  ,\n",
       "        3757.8448  ,  8027.968   ,  8538.28845 , 48673.5588  ,\n",
       "       13462.52    ,  9850.432   , 15817.9857  ,  4719.52405 ,\n",
       "        8733.22925 , 44585.45587 , 39125.33225 ,  2020.177   ,\n",
       "       21984.47061 ,  2866.091   , 21659.9301  , 43813.8661  ,\n",
       "       36307.7983  ,  3579.8287  , 11015.1747  ,  6358.77645 ,\n",
       "        4719.52405 , 11830.6072  ,  2473.3341  ,  4296.2712  ,\n",
       "       25309.489   , 60021.39897 , 11856.4115  , 19673.33573 ,\n",
       "        3292.52985 ,  8601.3293  ,  7726.854   , 12913.9924  ,\n",
       "        1252.407   , 46130.5265  , 14119.62    ,  8968.33    ,\n",
       "       26392.26029 ,  9877.6077  , 33907.548   , 39047.285   ,\n",
       "        2913.569   ,  8538.28845 , 24513.09126 , 12224.35085 ,\n",
       "       16297.846   , 13887.204   , 12629.8967  , 13204.28565 ,\n",
       "        7742.1098  ,  8116.26885 , 20773.62775 , 46599.1084  ,\n",
       "       11658.11505 , 43896.3763  ,  1639.5631  ,  8062.764   ,\n",
       "       39125.33225 , 19719.6947  ,  2632.992   ,  2727.3951  ,\n",
       "       27000.98473 , 36950.2567  ,  6799.458   ,  9850.432   ,\n",
       "        3201.24515 ,  8232.6388  ,  6112.35295 ,  4347.02335 ,\n",
       "       41999.52    , 62592.87309 ,  5031.26955 , 11576.13    ,\n",
       "        1826.843   ,  6112.35295 ,  3577.999   , 39047.285   ,\n",
       "       37829.7242  , 23288.9284  , 12029.2867  , 19673.33573 ,\n",
       "       11743.9341  , 45008.9555  , 12479.70895 ,  4753.6368  ,\n",
       "        8703.456   , 34617.84065 , 47269.854   ,  7256.7231  ,\n",
       "        1832.094   ,  8601.3293  , 36910.60803 ,  9101.798   ,\n",
       "       40273.6455  , 10197.7722  , 13822.803   ,  6799.458   ,\n",
       "        7624.63    ,  5209.57885 , 38245.59327 , 35069.37452 ,\n",
       "       48673.5588  ,  1646.4297  ,  8116.26885 ,  1727.54    ,\n",
       "        5974.3847  ,  8688.85885 , 62592.87309 , 37270.1512  ,\n",
       "       21880.82    , 10156.7832  , 22218.1149  , 12609.88702 ,\n",
       "        2719.27975 , 10796.35025 ,  8978.1851  , 10923.9332  ,\n",
       "        5266.3656  , 13831.1152  , 36910.60803 , 22395.74424 ,\n",
       "        1628.4709  , 10942.13205 ,  7144.86265 , 38792.6856  ,\n",
       "       25333.33284 , 21344.8467  ,  2217.46915 ,  5974.3847  ,\n",
       "        1639.5631  ,  1711.0268  , 11015.1747  ,  9620.3307  ,\n",
       "        4922.9159  , 13470.8044  , 12142.5786  ,  9386.1613  ,\n",
       "        4134.08245 , 24671.66334 , 20167.33603 ,  6799.458   ,\n",
       "        4239.89265 ,  1634.5734  , 19442.3535  ,  4337.7352  ,\n",
       "        7441.501   ,  2416.955   ,  4449.462   , 24671.66334 ,\n",
       "        4719.73655 ,  5855.9025  , 27218.43725 ,  1705.6245  ,\n",
       "       29186.48236 ,  7281.5056  , 11353.2276  ,  2497.0383  ,\n",
       "        7228.21565 , 26109.32905 ,  1639.5631  ,  2331.519   ,\n",
       "       14410.9321  , 10043.249   , 40974.1649  ,  3877.30425 ,\n",
       "        5002.7827  , 21978.6769  ,  3292.52985 ,  1815.8759  ,\n",
       "        6203.90175 ,  5630.45785 ,  3471.4096  ,  4454.40265 ,\n",
       "       10923.9332  , 47055.5321  , 12495.29085 , 19040.876   ,\n",
       "        4922.9159  , 41676.0811  ,  3309.7926  ,  9487.6442  ,\n",
       "        4762.329   ,  1146.7966  ,  9048.0273  , 13844.7972  ,\n",
       "        4133.64165 ,  2855.43755 ,  6289.7549  ,  1815.8759  ,\n",
       "        6748.5912  ,  5855.9025  , 14001.1338  ,  6933.24225 ,\n",
       "        5934.3798  ,  8965.79575 ,  8703.456   ,  3176.8159  ,\n",
       "       11842.442   , 14410.9321  , 33471.97189 , 11931.12525 ,\n",
       "        6338.0756  ,  2523.1695  , 21344.8467  ,  7448.40395 ,\n",
       "       12622.1795  , 24671.66334 ,  4931.647   ,  6600.361   ,\n",
       "       25656.57526 , 34617.84065 ,  6600.20595 , 29186.48236 ,\n",
       "        5649.715   , 37484.4493  ,  7162.0122  ,  9095.06825 ,\n",
       "        7441.501   , 10072.05505 , 11272.33139 ,  7633.7206  ,\n",
       "        1515.3449  ,  6123.5688  , 19719.6947  , 47291.055   ,\n",
       "        3877.30425 ,  3227.1211  ,  2200.83085 ,  1704.70015 ,\n",
       "        8062.764   ,  7882.429475, 24671.66334 ,  4340.4409  ,\n",
       "        9101.798   , 24393.6224  , 46599.1084  , 16455.70785 ,\n",
       "        6393.60345 , 10982.5013  , 44585.45587 ,  9095.06825 ,\n",
       "       39047.285   ,  1137.011   , 37484.4493  ,  5253.524   ,\n",
       "       12430.95335 ,  3484.331   , 39047.285   ,  6112.35295 ,\n",
       "        9487.6442  ,  9101.798   ,  1639.5631  , 27000.98473 ,\n",
       "       12224.35085 , 12404.8791  , 13143.33665 , 21344.8467  ,\n",
       "        6600.20595 ,  4234.927   , 23563.01618 , 21259.37795 ,\n",
       "        3292.52985 ,  1705.6245  ,  3077.0955  , 47896.79135 ,\n",
       "        9225.2564  ,  4347.02335 , 12495.29085 , 10601.63225 ,\n",
       "       34838.873   ,  5974.3847  ,  5240.765   ,  8835.26495 ,\n",
       "        1639.5631  ,  3056.3881  , 32734.1863  , 17663.1442  ,\n",
       "       13352.0998  ,  2523.1695  ,  3227.1211  , 10096.97    ,\n",
       "       10072.05505 , 13747.87235 , 20745.9891  , 18963.17192 ,\n",
       "       15359.1045  ,  2459.7201  ,  5400.9805  ,  4399.731   ,\n",
       "        8627.5411  ,  2304.0022  ,  9715.841   , 44202.6536  ,\n",
       "        3579.8287  ,  4922.9159  ,  2196.4732  ,  8280.6227  ,\n",
       "        3353.284   , 11830.6072  , 47291.055   , 18259.216   ,\n",
       "        8964.06055 , 41949.2441  , 13430.265   ,  4922.9159  ,\n",
       "        9386.1613  ,  4234.927   , 29523.1656  ,  4350.5144  ,\n",
       "       13415.0381  ,  1832.094   , 15518.18025 ,  3176.8159  ,\n",
       "       24667.419   ,  5400.9805  ,  2395.17155 , 44501.3982  ,\n",
       "        4949.7587  ,  4889.0368  , 29523.1656  , 16586.49771 ,\n",
       "       32108.66282 ,  2639.0429  , 11299.343   ,  3208.787   ,\n",
       "        4536.259   ,  4949.7587  , 44641.1974  ,  8539.671   ,\n",
       "       62592.87309 , 37484.4493  ,  5488.262   ,  8538.28845 ,\n",
       "        1632.56445 ,  3161.454   ,  3481.868   ,  9048.0273  ,\n",
       "       44423.803   , 11830.6072  ,  1731.677   , 12815.44495 ,\n",
       "        2134.9015  ,  7348.142   ,  4337.7352  ,  2416.955   ,\n",
       "        2897.3235  , 36307.7983  ,  6933.24225 ,  1615.7667  ,\n",
       "       39774.2763  , 20781.48892 , 41661.602   , 11830.6072  ,\n",
       "        4454.40265 ,  2775.19215 ,  1906.35825 ,  9800.8882  ,\n",
       "        5003.853   ,  2719.27975 , 10564.8845  ,  7954.517   ,\n",
       "        5966.8874  ,  3877.30425 , 12609.88702 , 44585.45587 ,\n",
       "        1639.5631  ,  8442.667   ,  7882.429475, 28476.73499 ,\n",
       "       11576.13    ,  3693.428   , 18223.4512  , 20781.48892 ,\n",
       "       16085.1275  , 24513.09126 ])"
      ]
     },
     "execution_count": 18,
     "metadata": {},
     "output_type": "execute_result"
    }
   ],
   "source": [
    "ridge_test"
   ]
  },
  {
   "cell_type": "code",
   "execution_count": 20,
   "id": "e9e13472",
   "metadata": {},
   "outputs": [
    {
     "data": {
      "text/plain": [
       "0.6885064722540655"
      ]
     },
     "execution_count": 20,
     "metadata": {},
     "output_type": "execute_result"
    }
   ],
   "source": [
    "from sklearn.metrics import  r2_score\n",
    "r2_score(y_test,ridge_test)"
   ]
  },
  {
   "cell_type": "code",
   "execution_count": null,
   "id": "d66c995b",
   "metadata": {},
   "outputs": [],
   "source": []
  }
 ],
 "metadata": {
  "kernelspec": {
   "display_name": "Python 3 (ipykernel)",
   "language": "python",
   "name": "python3"
  },
  "language_info": {
   "codemirror_mode": {
    "name": "ipython",
    "version": 3
   },
   "file_extension": ".py",
   "mimetype": "text/x-python",
   "name": "python",
   "nbconvert_exporter": "python",
   "pygments_lexer": "ipython3",
   "version": "3.10.9"
  }
 },
 "nbformat": 4,
 "nbformat_minor": 5
}
